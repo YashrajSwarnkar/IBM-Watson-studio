{
    "nbformat_minor": 1, 
    "cells": [
        {
            "source": "# My Jupyter Notebook on IBM Data Science Experience", 
            "cell_type": "markdown", 
            "metadata": {
                "collapsed": true
            }
        }, 
        {
            "source": "**Yashraj Swarnkar**  \nMasters student in Northeastern University", 
            "cell_type": "markdown", 
            "metadata": {}
        }, 
        {
            "source": "_I am interested in data science because I am passionate about data and I like help improve how humans make decisions._", 
            "cell_type": "markdown", 
            "metadata": {}
        }, 
        {
            "source": "### Below is code showning addition of two number", 
            "cell_type": "markdown", 
            "metadata": {}
        }, 
        {
            "source": "1+1", 
            "cell_type": "markdown", 
            "metadata": {}
        }, 
        {
            "source": "<img src=https://pngio.com/images/png-42495.html> ", 
            "cell_type": "markdown", 
            "metadata": {}
        }, 
        {
            "source": "[I'm an inline-style link](https://www.google.com)", 
            "cell_type": "markdown", 
            "metadata": {}
        }, 
        {
            "source": "<dl>\n  <dt>Writtern statements</dt>\n  <dd>Using HTML tags</dd>\n\n  <dt>Please look</dt>\n  <dd>the cell to check <em>tags</em>.</dd>\n</dl>", 
            "cell_type": "markdown", 
            "metadata": {}
        }
    ], 
    "metadata": {
        "kernelspec": {
            "display_name": "Python 3.5", 
            "name": "python3", 
            "language": "python"
        }, 
        "language_info": {
            "mimetype": "text/x-python", 
            "nbconvert_exporter": "python", 
            "version": "3.5.5", 
            "name": "python", 
            "file_extension": ".py", 
            "pygments_lexer": "ipython3", 
            "codemirror_mode": {
                "version": 3, 
                "name": "ipython"
            }
        }
    }, 
    "nbformat": 4
}